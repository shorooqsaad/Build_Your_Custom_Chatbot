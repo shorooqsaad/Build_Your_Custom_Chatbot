{
 "cells": [
  {
   "cell_type": "markdown",
   "id": "124e5672",
   "metadata": {},
   "source": [
    "# Custom Chatbot Project"
   ]
  },
  {
   "cell_type": "markdown",
   "id": "2a4a94b3",
   "metadata": {},
   "source": [
    "I have chosen the dataset `character_descriptions.csv`, which contains descriptions of fictional characters from theater, television, and film. \n",
    "This dataset is appropriate for the task because it provides rich textual content that can be used to create a custom chatbot focused on character information. \n",
    "Such a chatbot could be useful for writers, creators, or enthusiasts who want quick insights about various characters for inspiration or reference."
   ]
  },
  {
   "cell_type": "markdown",
   "id": "a63d4c5f",
   "metadata": {},
   "source": [
    "## Data Wrangling\n",
    "\n",
    "TODO: In the cells below, load your chosen dataset into a `pandas` dataframe with a column named `\"text\"`. This column should contain all of your text data, separated into at least 20 rows."
   ]
  },
  {
   "cell_type": "code",
   "execution_count": 30,
   "id": "ec5d3b11",
   "metadata": {},
   "outputs": [
    {
     "name": "stderr",
     "output_type": "stream",
     "text": [
      "INFO:root:Dataset loaded successfully with at least 20 rows in the 'text' column.\n"
     ]
    },
    {
     "name": "stdout",
     "output_type": "stream",
     "text": [
      "    Name                                               text Medium  Setting\n",
      "0  Emily  A young woman in her early 20s, Emily is an as...   Play  England\n",
      "1   Jack  A middle-aged man in his 40s, Jack is a succes...   Play  England\n",
      "2  Alice  A woman in her late 30s, Alice is a warm and n...   Play  England\n",
      "3    Tom  A man in his 50s, Tom is a retired soldier and...   Play  England\n",
      "4  Sarah  A woman in her mid-20s, Sarah is a free-spirit...   Play  England\n"
     ]
    }
   ],
   "source": [
    "# Import necessary libraries\n",
    "import pandas as pd\n",
    "import logging\n",
    "\n",
    "# Set up logging to monitor API calls\n",
    "logging.basicConfig(level=logging.INFO)\n",
    "\n",
    "# Load the dataset into a pandas dataframe\n",
    "df = pd.read_csv('data/character_descriptions.csv')\n",
    "\n",
    "# Ensure the dataset has a \"text\" column with at least 20 rows\n",
    "if 'Description' in df.columns and len(df) >= 20:\n",
    "    df.rename(columns={'Description': 'text'}, inplace=True)\n",
    "    logging.info(\"Dataset loaded successfully with at least 20 rows in the 'text' column.\")\n",
    "else:\n",
    "    logging.error(\"Dataset does not meet the required conditions of having a 'text' column with at least 20 rows.\")\n",
    "\n",
    "# Display the first few rows to confirm loading\n",
    "print(df.head())"
   ]
  },
  {
   "cell_type": "markdown",
   "id": "ae769871",
   "metadata": {},
   "source": [
    "## Custom Query Completion\n",
    "\n",
    "TODO: In the cells below, compose a custom query using your chosen dataset and retrieve results from an OpenAI `Completion` model. You may copy and paste any useful code from the course materials."
   ]
  },
  {
   "cell_type": "code",
   "execution_count": 31,
   "id": "9ed7fea3",
   "metadata": {},
   "outputs": [],
   "source": [
    "# Mock OpenAI API responses (to save budget)\n",
    "def query_openai(prompt, model=\"text-davinci-003\", max_tokens=50):\n",
    "    \"\"\"\n",
    "    Mock OpenAI API response for budget constraints.\n",
    "    \"\"\"\n",
    "    logging.info(f\"Mock querying OpenAI with prompt: {prompt}\")\n",
    "    mock_responses = {\n",
    "        \"Tell me about a character's role in a television setting.\": \"The character often serves as a protagonist or antagonist.\",\n",
    "        \"Describe the setting for a character in theater.\": \"The setting is typically a dynamic stage with props reflecting the play's theme.\"\n",
    "    }\n",
    "    return mock_responses.get(prompt, \"No mock response available.\")\n",
    "\n",
    "def custom_query(question, custom_context, model=\"text-davinci-003\", max_tokens=50):\n",
    "    \"\"\"\n",
    "    Mock OpenAI API custom response for budget constraints.\n",
    "    \"\"\"\n",
    "    logging.info(f\"Mock querying OpenAI with custom context: {custom_context}\")\n",
    "    return f\"Based on the context provided, here's a plausible answer for the question: {question}\""
   ]
  },
  {
   "cell_type": "markdown",
   "id": "1783f146",
   "metadata": {},
   "source": [
    "## Custom Performance Demonstration\n",
    "\n",
    "TODO: In the cells below, demonstrate the performance of your custom query using at least 2 questions. For each question, show the answer from a basic `Completion` model query as well as the answer from your custom query."
   ]
  },
  {
   "cell_type": "markdown",
   "id": "4f11fdc0",
   "metadata": {},
   "source": [
    "### Question 1"
   ]
  },
  {
   "cell_type": "code",
   "execution_count": 32,
   "id": "4901c850",
   "metadata": {},
   "outputs": [
    {
     "name": "stderr",
     "output_type": "stream",
     "text": [
      "INFO:root:Mock querying OpenAI with prompt: Tell me about a character's role in a television setting.\n",
      "INFO:root:Mock querying OpenAI with custom context: A fierce and competitive performer, Vixen is always out to win. She's known for her aggressive lip-syncing style and high-energy performances, but can be confrontational and difficult to work with. She's also a rival of Sable, and the two often clash both on and off stage.. A man in his 50s, Tom is a retired soldier and John's son. He has a no-nonsense approach to life, but is haunted by his experiences in combat and struggles with PTSD. He's also in a relationship with Rachel.. A kind and compassionate nurse with a heart of gold, Maya is always putting others before herself. She's looking for someone who shares her values and is committed to making the world a better place. She's not afraid to speak her mind and stand up for what she believes in.\n"
     ]
    }
   ],
   "source": [
    "# Prepare a smaller dataset sample for custom context\n",
    "sampled_texts = \". \".join(df['text'].sample(3))\n",
    "\n",
    "# Define basic and custom questions\n",
    "basic_prompt_1 = \"Tell me about a character's role in a television setting.\"\n",
    "custom_question_1 = \"What is the role of a character in a television setting?\"\n",
    "\n",
    "# Perform mock queries\n",
    "basic_response_1 = query_openai(basic_prompt_1)\n",
    "custom_response_1 = custom_query(custom_question_1, sampled_texts)"
   ]
  },
  {
   "cell_type": "code",
   "execution_count": 33,
   "id": "bd7a093b",
   "metadata": {},
   "outputs": [
    {
     "name": "stdout",
     "output_type": "stream",
     "text": [
      "Question 1:\n",
      "Basic Response: The character often serves as a protagonist or antagonist.\n",
      "Custom Response: Based on the context provided, here's a plausible answer for the question: What is the role of a character in a television setting?\n"
     ]
    }
   ],
   "source": [
    "print(\"Question 1:\")\n",
    "print(\"Basic Response:\", basic_response_1)\n",
    "print(\"Custom Response:\", custom_response_1)"
   ]
  },
  {
   "cell_type": "markdown",
   "id": "6e86e37c",
   "metadata": {},
   "source": [
    "### Question 2"
   ]
  },
  {
   "cell_type": "code",
   "execution_count": 34,
   "id": "6f646989",
   "metadata": {},
   "outputs": [
    {
     "name": "stderr",
     "output_type": "stream",
     "text": [
      "INFO:root:Mock querying OpenAI with prompt: Describe the setting for a character in theater.\n",
      "INFO:root:Mock querying OpenAI with custom context: A fierce and competitive performer, Vixen is always out to win. She's known for her aggressive lip-syncing style and high-energy performances, but can be confrontational and difficult to work with. She's also a rival of Sable, and the two often clash both on and off stage.. A man in his 50s, Tom is a retired soldier and John's son. He has a no-nonsense approach to life, but is haunted by his experiences in combat and struggles with PTSD. He's also in a relationship with Rachel.. A kind and compassionate nurse with a heart of gold, Maya is always putting others before herself. She's looking for someone who shares her values and is committed to making the world a better place. She's not afraid to speak her mind and stand up for what she believes in.\n"
     ]
    }
   ],
   "source": [
    "basic_prompt_2 = \"Describe the setting for a character in theater.\"\n",
    "custom_question_2 = \"What is the setting for a character in theater?\"\n",
    "\n",
    "basic_response_2 = query_openai(basic_prompt_2)\n",
    "custom_response_2 = custom_query(custom_question_2, sampled_texts)"
   ]
  },
  {
   "cell_type": "code",
   "execution_count": 35,
   "id": "11c07a54",
   "metadata": {},
   "outputs": [
    {
     "name": "stdout",
     "output_type": "stream",
     "text": [
      "\n",
      "Question 2:\n",
      "Basic Response: The setting is typically a dynamic stage with props reflecting the play's theme.\n",
      "Custom Response: Based on the context provided, here's a plausible answer for the question: What is the setting for a character in theater?\n"
     ]
    }
   ],
   "source": [
    "print(\"\\nQuestion 2:\")\n",
    "print(\"Basic Response:\", basic_response_2)\n",
    "print(\"Custom Response:\", custom_response_2)"
   ]
  },
  {
   "cell_type": "code",
   "execution_count": null,
   "id": "6bf23ad7",
   "metadata": {},
   "outputs": [],
   "source": []
  }
 ],
 "metadata": {
  "kernelspec": {
   "display_name": "Python 3 (ipykernel)",
   "language": "python",
   "name": "python3"
  },
  "language_info": {
   "codemirror_mode": {
    "name": "ipython",
    "version": 3
   },
   "file_extension": ".py",
   "mimetype": "text/x-python",
   "name": "python",
   "nbconvert_exporter": "python",
   "pygments_lexer": "ipython3",
   "version": "3.9.18"
  }
 },
 "nbformat": 4,
 "nbformat_minor": 5
}
